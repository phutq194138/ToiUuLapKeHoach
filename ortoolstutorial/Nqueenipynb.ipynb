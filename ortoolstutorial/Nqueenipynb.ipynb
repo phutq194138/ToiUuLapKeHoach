{
  "nbformat": 4,
  "nbformat_minor": 0,
  "metadata": {
    "colab": {
      "name": "Nqueenipynb",
      "provenance": []
    },
    "kernelspec": {
      "name": "python3",
      "display_name": "Python 3"
    },
    "language_info": {
      "name": "python"
    }
  },
  "cells": [
    {
      "cell_type": "code",
      "metadata": {
        "id": "8KsTiczUJAdV"
      },
      "source": [
        "import numpy as np"
      ],
      "execution_count": 1,
      "outputs": []
    },
    {
      "cell_type": "markdown",
      "metadata": {
        "id": "dV2rP7dyT8T_"
      },
      "source": [
        "Khởi tạo lời giải ban đầu"
      ]
    },
    {
      "cell_type": "code",
      "metadata": {
        "colab": {
          "base_uri": "https://localhost:8080/"
        },
        "id": "JlFcX2-pI8Bw",
        "outputId": "17cd711c-30b8-4e89-ad77-49b5909f21e8"
      },
      "source": [
        "# Thiết lập bàn cờ: queen[i] là cột của quân cờ hàng i\n",
        "N=8\n",
        "queen = np.array(range(N))"
      ],
      "execution_count": 103,
      "outputs": [
        {
          "output_type": "stream",
          "name": "stdout",
          "text": [
            "[7 4 1 2 0 3 6 5]\n"
          ]
        }
      ]
    },
    {
      "cell_type": "code",
      "metadata": {
        "id": "4fyfJUu8T6ml"
      },
      "source": [
        "# Khởi tạo bằng hoắn vị: mỗi quân cờ sẽ khác hàng và cột\n",
        "np.random.shuffle(queen)\n",
        "print(queen)"
      ],
      "execution_count": null,
      "outputs": []
    },
    {
      "cell_type": "code",
      "metadata": {
        "colab": {
          "base_uri": "https://localhost:8080/"
        },
        "id": "tR8IDd_wJK3W",
        "outputId": "a12b1eeb-eb14-417f-ebe5-782aacb2f426"
      },
      "source": [
        "# Khởi tạo ngẫu nhiên hoàn toàn: mỗi quân hậu đều có vị trí tùy ý\n",
        "for i in range(N):\n",
        "    queen[i]= np.random.random_integers(N-1)\n",
        "print(queen)"
      ],
      "execution_count": 133,
      "outputs": [
        {
          "output_type": "stream",
          "name": "stdout",
          "text": [
            "[6 3 2 2 3 1 6 4]\n"
          ]
        },
        {
          "output_type": "stream",
          "name": "stderr",
          "text": [
            "/usr/local/lib/python3.7/dist-packages/ipykernel_launcher.py:3: DeprecationWarning: This function is deprecated. Please call randint(1, 7 + 1) instead\n",
            "  This is separate from the ipykernel package so we can avoid doing imports until\n"
          ]
        }
      ]
    },
    {
      "cell_type": "markdown",
      "metadata": {
        "id": "p5FXDeThUK01"
      },
      "source": [
        "Các hàm sử dụng trong quá trình tối ưu"
      ]
    },
    {
      "cell_type": "code",
      "metadata": {
        "id": "23k3CpOMNjzL"
      },
      "source": [
        "# biểu diễn kết quả trên bàn cờ NxN\n",
        "def show(state):\n",
        "    for i in range(N):\n",
        "        row = np.zeros(N)\n",
        "        row[state[i]]=1\n",
        "        print(row)"
      ],
      "execution_count": 68,
      "outputs": []
    },
    {
      "cell_type": "code",
      "metadata": {
        "id": "2-eUENdtJfRG"
      },
      "source": [
        "#  hàm mục tiêu ứng với trạng thái state\n",
        "\n",
        "def obj_func(state):\n",
        "    obj =0\n",
        "    for i in range(N):\n",
        "        for j in range(i+1,N):\n",
        "            if state[i]==state[j]:\n",
        "                obj+=1\n",
        "            elif state[i]-i==state[j]-j:\n",
        "                obj+=1\n",
        "            elif state[i]+i==state[j]+j:\n",
        "                obj+=1\n",
        "\n",
        "    return obj"
      ],
      "execution_count": 125,
      "outputs": []
    },
    {
      "cell_type": "code",
      "metadata": {
        "id": "Ywn_3lt2K0KC"
      },
      "source": [
        "# tìm kiếm hàng xóm của trạng thái state\n",
        "\n",
        "def neighbor(state):\n",
        "    neighbor =[]\n",
        "    for i in range(N):\n",
        "        cur_row_i =state[i]      \n",
        "        for j in range(N):\n",
        "            if j !=cur_row_i:\n",
        "                temp=np.array(state)\n",
        "                temp[i]=j\n",
        "                neighbor.append(temp)\n",
        "    return neighbor"
      ],
      "execution_count": 73,
      "outputs": []
    },
    {
      "cell_type": "code",
      "metadata": {
        "colab": {
          "base_uri": "https://localhost:8080/"
        },
        "id": "4hLdkxqOKscT",
        "outputId": "a656af80-f83c-4903-c3f7-c240ab339cdf"
      },
      "source": [
        "# vòng lặp chính\n",
        "while(True):\n",
        "    cur_optimum = obj_func(queen)\n",
        "    next_state = queen\n",
        "    for neighborState in neighbor(queen):\n",
        "        if cur_optimum > obj_func(neighborState):\n",
        "             cur_optimum= obj_func(neighborState)\n",
        "             next_state = neighborState\n",
        "    if (next_state==queen).all():\n",
        "        show(next_state)\n",
        "        print(\"Cost:\",cur_optimum)\n",
        "        break\n",
        "    else:\n",
        "        queen=next_state"
      ],
      "execution_count": 134,
      "outputs": [
        {
          "output_type": "stream",
          "name": "stdout",
          "text": [
            "[0. 0. 0. 0. 0. 0. 0. 1.]\n",
            "[0. 0. 0. 1. 0. 0. 0. 0.]\n",
            "[1. 0. 0. 0. 0. 0. 0. 0.]\n",
            "[0. 0. 1. 0. 0. 0. 0. 0.]\n",
            "[0. 0. 0. 0. 0. 1. 0. 0.]\n",
            "[0. 1. 0. 0. 0. 0. 0. 0.]\n",
            "[0. 0. 0. 0. 0. 0. 1. 0.]\n",
            "[0. 0. 0. 0. 1. 0. 0. 0.]\n",
            "Cost: 0\n"
          ]
        }
      ]
    }
  ]
}